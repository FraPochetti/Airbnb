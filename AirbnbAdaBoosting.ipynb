{
 "cells": [
  {
   "cell_type": "code",
   "execution_count": 1,
   "metadata": {
    "collapsed": false
   },
   "outputs": [],
   "source": [
    "from mylib import preprocess\n",
    "import pandas as pd\n",
    "import os\n",
    "\n",
    "pretest = pd.read_csv(os.path.join('data', 'test_users.csv'), header=0, parse_dates=[1,2,3])\n",
    "pretrain = pd.read_csv(os.path.join('data', 'train_users_2.csv'), header=0, parse_dates=[1,2,3])\n",
    "df_sessions = pd.read_csv(\"data\\sessions.csv\", encoding='utf8')"
   ]
  },
  {
   "cell_type": "code",
   "execution_count": 2,
   "metadata": {
    "collapsed": false
   },
   "outputs": [],
   "source": [
    "train, test, y, le = preprocess.make_user_features(pretrain, pretest)"
   ]
  },
  {
   "cell_type": "code",
   "execution_count": 3,
   "metadata": {
    "collapsed": false
   },
   "outputs": [],
   "source": [
    "data = pd.concat((train, test), axis=0, ignore_index=True)\n",
    "final = preprocess.make_sessions_features(data, df_sessions)"
   ]
  },
  {
   "cell_type": "code",
   "execution_count": 4,
   "metadata": {
    "collapsed": false
   },
   "outputs": [
    {
     "data": {
      "text/plain": [
       "(213451, 549)"
      ]
     },
     "execution_count": 4,
     "metadata": {},
     "output_type": "execute_result"
    }
   ],
   "source": [
    "final[:train.shape[0]].shape"
   ]
  },
  {
   "cell_type": "code",
   "execution_count": 5,
   "metadata": {
    "collapsed": true
   },
   "outputs": [],
   "source": [
    "from sklearn.cross_validation import train_test_split\n",
    "our_train = final[:train.shape[0]]\n",
    "X_train, X_test, y_train, y_test = train_test_split(our_train, y, test_size=0.33, random_state=42, stratify=y)"
   ]
  },
  {
   "cell_type": "code",
   "execution_count": 6,
   "metadata": {
    "collapsed": false
   },
   "outputs": [
    {
     "data": {
      "text/plain": [
       "(143012, 549)"
      ]
     },
     "execution_count": 6,
     "metadata": {},
     "output_type": "execute_result"
    }
   ],
   "source": [
    "X_train.shape"
   ]
  },
  {
   "cell_type": "code",
   "execution_count": 7,
   "metadata": {
    "collapsed": false
   },
   "outputs": [
    {
     "data": {
      "text/plain": [
       "RandomForestClassifier(bootstrap=True, class_weight=None, criterion='entropy',\n",
       "            max_depth=None, max_features='auto', max_leaf_nodes=None,\n",
       "            min_samples_leaf=1, min_samples_split=2,\n",
       "            min_weight_fraction_leaf=0.0, n_estimators=160, n_jobs=-1,\n",
       "            oob_score=True, random_state=None, verbose=0, warm_start=False)"
      ]
     },
     "execution_count": 7,
     "metadata": {},
     "output_type": "execute_result"
    }
   ],
   "source": [
    "from sklearn.ensemble import RandomForestClassifier, ExtraTreesClassifier\n",
    "clf = RandomForestClassifier(n_estimators=160, oob_score=True, n_jobs=-1, criterion='entropy')\n",
    "clf.fit(X_train, y_train)"
   ]
  },
  {
   "cell_type": "code",
   "execution_count": 8,
   "metadata": {
    "collapsed": false
   },
   "outputs": [
    {
     "data": {
      "text/plain": [
       "312"
      ]
     },
     "execution_count": 8,
     "metadata": {},
     "output_type": "execute_result"
    }
   ],
   "source": [
    "import numpy as np\n",
    "np.count_nonzero(clf.feature_importances_ < 1e-4)"
   ]
  },
  {
   "cell_type": "code",
   "execution_count": 9,
   "metadata": {
    "collapsed": true
   },
   "outputs": [],
   "source": [
    "unimportant_features = clf.feature_importances_ < 1e-4\n",
    "clean_X_train = X_train.ix[:, ~unimportant_features]"
   ]
  },
  {
   "cell_type": "code",
   "execution_count": 10,
   "metadata": {
    "collapsed": false
   },
   "outputs": [
    {
     "name": "stderr",
     "output_type": "stream",
     "text": [
      "[Parallel(n_jobs=2)]: Done  21 tasks      | elapsed:  3.6min\n",
      "[Parallel(n_jobs=2)]: Done  36 out of  36 | elapsed:  5.9min finished\n"
     ]
    },
    {
     "name": "stdout",
     "output_type": "stream",
     "text": [
      "Fitting 3 folds for each of 12 candidates, totalling 36 fits\n",
      "[mean: 0.55355, std: 0.00245, params: {'n_estimators': 100, 'learning_rate': 1.0},\n",
      " mean: 0.54898, std: 0.00310, params: {'n_estimators': 50, 'learning_rate': 1.0},\n",
      " mean: 0.52288, std: 0.00815, params: {'n_estimators': 10, 'learning_rate': 1.0},\n",
      " mean: 0.47490, std: 0.00127, params: {'n_estimators': 100, 'learning_rate': 0.1},\n",
      " mean: 0.46160, std: 0.00067, params: {'n_estimators': 50, 'learning_rate': 0.1},\n",
      " mean: 0.45722, std: 0.00324, params: {'n_estimators': 10, 'learning_rate': 0.1},\n",
      " mean: 0.14334, std: 0.20270, params: {'n_estimators': 50, 'learning_rate': 100},\n",
      " mean: 0.14334, std: 0.20270, params: {'n_estimators': 100, 'learning_rate': 100},\n",
      " mean: 0.09136, std: 0.05664, params: {'n_estimators': 10, 'learning_rate': 10},\n",
      " mean: 0.08797, std: 0.05885, params: {'n_estimators': 100, 'learning_rate': 10},\n",
      " mean: 0.04407, std: 0.06230, params: {'n_estimators': 10, 'learning_rate': 100},\n",
      " mean: 0.01193, std: 0.01395, params: {'n_estimators': 50, 'learning_rate': 10}]\n"
     ]
    }
   ],
   "source": [
    "from sklearn.grid_search import GridSearchCV\n",
    "from sklearn.ensemble import AdaBoostClassifier\n",
    "from pprint import pprint\n",
    "bagg = AdaBoostClassifier(random_state=42)\n",
    "\n",
    "param_grid = {\"n_estimators\": [10, 50, 100],\n",
    "              \"learning_rate\": [0.1, 1.0, 10, 100]}\n",
    "\n",
    "search = GridSearchCV(bagg, param_grid, scoring='f1_weighted', cv=3, verbose=4, n_jobs=2)\n",
    "search.fit(clean_X_train, y_train)\n",
    "pprint(sorted(search.grid_scores_, key=lambda x: -x.mean_validation_score))"
   ]
  }
 ],
 "metadata": {
  "kernelspec": {
   "display_name": "Python 2",
   "language": "python",
   "name": "python2"
  },
  "language_info": {
   "codemirror_mode": {
    "name": "ipython",
    "version": 2
   },
   "file_extension": ".py",
   "mimetype": "text/x-python",
   "name": "python",
   "nbconvert_exporter": "python",
   "pygments_lexer": "ipython2",
   "version": "2.7.11"
  }
 },
 "nbformat": 4,
 "nbformat_minor": 0
}
