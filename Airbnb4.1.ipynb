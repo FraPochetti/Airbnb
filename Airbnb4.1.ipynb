{
 "cells": [
  {
   "cell_type": "code",
   "execution_count": 33,
   "metadata": {
    "collapsed": false
   },
   "outputs": [],
   "source": [
    "import pandas as pd\n",
    "from sklearn.preprocessing import LabelEncoder\n",
    "from sklearn.cross_validation import train_test_split\n",
    "from sklearn.metrics import classification_report\n",
    "import numpy as np\n",
    "from sklearn.ensemble import RandomForestClassifier, ExtraTreesClassifier\n",
    "import os\n",
    "from sklearn.feature_extraction import DictVectorizer\n",
    "import scipy.sparse as sp\n",
    "from mylib.scoring import ndcg_at_k, mean_ndcg\n",
    "from mylib.preprocess import make_sessions_features, make_user_features"
   ]
  },
  {
   "cell_type": "code",
   "execution_count": 5,
   "metadata": {
    "collapsed": false
   },
   "outputs": [],
   "source": [
    "test = pd.read_csv(os.path.join('data', 'test_users.csv'), header=0, parse_dates=[1,2,3])\n",
    "train = pd.read_csv(os.path.join('data', 'train_users_2.csv'), header=0, parse_dates=[1,2,3])\n",
    "df_sessions = pd.read_csv(\"data/sessions.csv\", encoding='utf8')\n",
    "from mylib.scoring import ndcg_at_k"
   ]
  },
  {
   "cell_type": "code",
   "execution_count": 8,
   "metadata": {
    "collapsed": false
   },
   "outputs": [],
   "source": [
    "user_features_train, user_features_test, y, le = make_user_features(train, test)\n",
    "session_features = make_sessions_features(user_features_train, df_sessions)"
   ]
  },
  {
   "cell_type": "markdown",
   "metadata": {},
   "source": [
    "Running Model"
   ]
  },
  {
   "cell_type": "code",
   "execution_count": 10,
   "metadata": {
    "collapsed": false
   },
   "outputs": [],
   "source": [
    "import xgboost as xgb"
   ]
  },
  {
   "cell_type": "code",
   "execution_count": 24,
   "metadata": {
    "collapsed": false
   },
   "outputs": [],
   "source": [
    "# X = final[:train.shape[0]]\n",
    "X_train, X_test, y_train, y_test = train_test_split(session_features, y, test_size=0.33, random_state=42)"
   ]
  },
  {
   "cell_type": "code",
   "execution_count": 60,
   "metadata": {
    "collapsed": false
   },
   "outputs": [
    {
     "name": "stdout",
     "output_type": "stream",
     "text": [
      "Lambda 0.0\n",
      "0.921660328214\n",
      "             precision    recall  f1-score   support\n",
      "\n",
      "          0       0.00      0.00      0.00         0\n",
      "          1       0.00      0.00      0.00         2\n",
      "          2       0.00      0.00      0.00         0\n",
      "          3       0.00      0.00      0.00         4\n",
      "          4       0.00      0.50      0.00         2\n",
      "          5       0.00      0.00      0.00         0\n",
      "          6       0.00      0.00      0.00         2\n",
      "          7       0.84      0.71      0.77     48374\n",
      "          8       0.00      0.00      0.00         2\n",
      "          9       0.00      0.00      0.00         0\n",
      "         10       0.53      0.50      0.51     22048\n",
      "         11       0.00      0.20      0.00         5\n",
      "\n",
      "avg / total       0.74      0.64      0.69     70439\n",
      "\n",
      "Lambda 0.01\n",
      "0.921735136856\n",
      "             precision    recall  f1-score   support\n",
      "\n",
      "          0       0.00      0.00      0.00         0\n",
      "          1       0.00      0.00      0.00         3\n",
      "          2       0.00      0.00      0.00         0\n",
      "          3       0.00      0.00      0.00         3\n",
      "          4       0.00      0.33      0.00         3\n",
      "          5       0.00      0.00      0.00         0\n",
      "          6       0.00      0.00      0.00         1\n",
      "          7       0.84      0.71      0.77     48370\n",
      "          8       0.00      0.00      0.00         2\n",
      "          9       0.00      0.00      0.00         0\n",
      "         10       0.53      0.49      0.51     22051\n",
      "         11       0.00      0.17      0.00         6\n",
      "\n",
      "avg / total       0.74      0.64      0.69     70439\n",
      "\n",
      "Lambda 0.1\n",
      "0.921626502196\n",
      "             precision    recall  f1-score   support\n",
      "\n",
      "          0       0.00      0.00      0.00         0\n",
      "          1       0.00      0.00      0.00         3\n",
      "          2       0.00      0.00      0.00         0\n",
      "          3       0.00      0.25      0.00         4\n",
      "          4       0.00      0.00      0.00         2\n",
      "          5       0.00      0.00      0.00         0\n",
      "          6       0.00      0.00      0.00         1\n",
      "          7       0.84      0.71      0.77     48478\n",
      "          8       0.00      0.00      0.00         2\n",
      "          9       0.00      0.00      0.00         0\n",
      "         10       0.53      0.50      0.51     21941\n",
      "         11       0.00      0.25      0.00         8\n",
      "\n",
      "avg / total       0.74      0.64      0.69     70439\n",
      "\n",
      "Lambda 1\n",
      "0.921755802418\n",
      "             precision    recall  f1-score   support\n",
      "\n",
      "          0       0.00      0.00      0.00         0\n",
      "          1       0.00      0.00      0.00         0\n",
      "          2       0.00      0.00      0.00         0\n",
      "          3       0.00      0.00      0.00         2\n",
      "          4       0.00      0.00      0.00         1\n",
      "          5       0.00      0.00      0.00         0\n",
      "          6       0.00      0.00      0.00         0\n",
      "          7       0.84      0.71      0.77     48449\n",
      "          8       0.00      0.00      0.00         0\n",
      "          9       0.00      0.00      0.00         0\n",
      "         10       0.53      0.50      0.51     21983\n",
      "         11       0.00      0.00      0.00         4\n",
      "\n",
      "avg / total       0.74      0.64      0.69     70439\n",
      "\n",
      "Lambda 10\n",
      "0.921728560273\n",
      "             precision    recall  f1-score   support\n",
      "\n",
      "          0       0.00      0.00      0.00         0\n",
      "          1       0.00      0.00      0.00         0\n",
      "          2       0.00      0.00      0.00         0\n",
      "          3       0.00      0.00      0.00         0\n",
      "          4       0.00      0.00      0.00         0\n",
      "          5       0.00      0.00      0.00         0\n",
      "          6       0.00      0.00      0.00         0\n",
      "          7       0.84      0.71      0.77     48343\n",
      "          8       0.00      0.00      0.00         0\n",
      "          9       0.00      0.00      0.00         0\n",
      "         10       0.53      0.50      0.51     22096\n",
      "         11       0.00      0.00      0.00         0\n",
      "\n",
      "avg / total       0.74      0.64      0.69     70439\n",
      "\n",
      "Lambda 100\n",
      "0.922224503808\n",
      "             precision    recall  f1-score   support\n",
      "\n",
      "          0       0.00      0.00      0.00         0\n",
      "          1       0.00      0.00      0.00         0\n",
      "          2       0.00      0.00      0.00         0\n",
      "          3       0.00      0.00      0.00         0\n",
      "          4       0.00      0.00      0.00         0\n",
      "          5       0.00      0.00      0.00         0\n",
      "          6       0.00      0.00      0.00         0\n",
      "          7       0.84      0.71      0.77     48762\n",
      "          8       0.00      0.00      0.00         0\n",
      "          9       0.00      0.00      0.00         0\n",
      "         10       0.52      0.50      0.51     21677\n",
      "         11       0.00      0.00      0.00         0\n",
      "\n",
      "avg / total       0.74      0.64      0.69     70439\n",
      "\n"
     ]
    }
   ],
   "source": [
    "params = {\n",
    "    'objective': 'multi:softprob',\n",
    "    'num_class': 13,\n",
    "    'bst:eta' :  0.1,\n",
    "    'bst:max_depth': 6,\n",
    "    'eval_metric': 'ndcg@5-',\n",
    "    'silent': 0,\n",
    "    'nthread': 2\n",
    "}\n",
    "\n",
    "for l in [0.0, 0.01, 0.1, 1, 10, 100]:\n",
    "    params['lambda'] = l\n",
    "    print \"Lambda\", l\n",
    "    gbm = xgb.train(params, xgb.DMatrix(X_train.values, label=y_train), num_boost_round=10)\n",
    "    gbm.predict_proba = gbm.predict\n",
    "    print mean_ndcg(gbm, xgb.DMatrix(X_test.values), y_test)\n",
    "    prediction = gbm.predict(xgb.DMatrix(X_test.values)).argmax(axis=1)\n",
    "    print classification_report(prediction, y_test)\n"
   ]
  },
  {
   "cell_type": "code",
   "execution_count": 54,
   "metadata": {
    "collapsed": false
   },
   "outputs": [
    {
     "name": "stdout",
     "output_type": "stream",
     "text": [
      "0.921557212228\n"
     ]
    }
   ],
   "source": []
  },
  {
   "cell_type": "code",
   "execution_count": 55,
   "metadata": {
    "collapsed": false
   },
   "outputs": [],
   "source": [
    "def precision_at_k(p_pred, y_true, k):\n",
    "    \n",
    "    "
   ]
  },
  {
   "cell_type": "code",
   "execution_count": 56,
   "metadata": {
    "collapsed": false
   },
   "outputs": [
    {
     "name": "stdout",
     "output_type": "stream",
     "text": [
      "             precision    recall  f1-score   support\n",
      "\n",
      "          0       0.00      0.00      0.00         0\n",
      "          1       0.00      0.00      0.00         0\n",
      "          2       0.00      0.00      0.00         0\n",
      "          3       0.00      0.00      0.00         0\n",
      "          4       0.00      0.00      0.00         1\n",
      "          5       0.00      0.00      0.00         0\n",
      "          6       0.00      0.00      0.00         1\n",
      "          7       0.84      0.71      0.77     48313\n",
      "          8       0.00      0.00      0.00         0\n",
      "          9       0.00      0.00      0.00         0\n",
      "         10       0.53      0.49      0.51     22118\n",
      "         11       0.00      0.00      0.00         6\n",
      "\n",
      "avg / total       0.74      0.64      0.69     70439\n",
      "\n"
     ]
    }
   ],
   "source": []
  },
  {
   "cell_type": "code",
   "execution_count": null,
   "metadata": {
    "collapsed": true
   },
   "outputs": [],
   "source": [
    "clf = RandomForestClassifier(n_estimators=200, oob_score=True, n_jobs=1, random_state=42, criterion='entropy', max_depth=32)\n",
    "clf = clf.fit(X, y)\n",
    "\n",
    "y_pred = clf.predict_proba(final.ix[train.shape[0]:])  \n",
    "ids = []  #list of ids\n",
    "cts = []  #list of countries\n",
    "for i in range(len(id_test)):\n",
    "    idx = id_test[i]\n",
    "    ids += [idx] * 5\n",
    "    cts += le.inverse_transform(np.argsort(y_pred[i])[::-1])[:5].tolist()\n",
    "\n",
    "#Generate submission\n",
    "sub = pd.DataFrame(np.column_stack((ids, cts)), columns=['id', 'country'])\n",
    "sub.to_csv(os.path.join('data', 'sub4.csv'),index=False)\n"
   ]
  },
  {
   "cell_type": "code",
   "execution_count": 16,
   "metadata": {
    "collapsed": true
   },
   "outputs": [],
   "source": [
    "from sklearn.metrics import f1_score, recall_score, confusion_matrix, classification_report"
   ]
  },
  {
   "cell_type": "code",
   "execution_count": 20,
   "metadata": {
    "collapsed": false
   },
   "outputs": [
    {
     "name": "stdout",
     "output_type": "stream",
     "text": [
      "0.907452273331\n",
      "             precision    recall  f1-score   support\n",
      "\n",
      "          0       0.00      0.00      0.00         9\n",
      "          1       0.00      0.00      0.00        15\n",
      "          2       0.00      0.00      0.00        16\n",
      "          3       0.00      0.00      0.00        36\n",
      "          4       0.00      0.02      0.00        88\n",
      "          5       0.00      0.05      0.00        21\n",
      "          6       0.00      0.04      0.00        28\n",
      "          7       0.85      0.68      0.76     51714\n",
      "          8       0.00      0.00      0.00         7\n",
      "          9       0.00      0.00      0.00         2\n",
      "         10       0.43      0.49      0.46     18291\n",
      "         11       0.00      0.07      0.01       212\n",
      "\n",
      "avg / total       0.74      0.62      0.67     70439\n",
      "\n",
      "0.911470609321\n",
      "             precision    recall  f1-score   support\n",
      "\n",
      "          0       0.00      0.00      0.00         7\n",
      "          1       0.00      0.00      0.00        12\n",
      "          2       0.00      0.00      0.00        13\n",
      "          3       0.00      0.03      0.00        32\n",
      "          4       0.00      0.03      0.00        70\n",
      "          5       0.00      0.00      0.00        19\n",
      "          6       0.00      0.04      0.00        25\n",
      "          7       0.86      0.68      0.76     51607\n",
      "          8       0.00      0.00      0.00         5\n",
      "          9       0.00      0.00      0.00         1\n",
      "         10       0.44      0.49      0.47     18460\n",
      "         11       0.00      0.08      0.01       188\n",
      "\n",
      "avg / total       0.74      0.63      0.68     70439\n",
      "\n",
      "0.913924484375\n",
      "             precision    recall  f1-score   support\n",
      "\n",
      "          0       0.00      0.00      0.00         8\n",
      "          1       0.00      0.00      0.00        11\n",
      "          2       0.00      0.00      0.00        13\n",
      "          3       0.00      0.03      0.00        34\n",
      "          4       0.00      0.02      0.00        60\n",
      "          5       0.00      0.00      0.00        21\n",
      "          6       0.00      0.04      0.00        28\n",
      "          7       0.86      0.68      0.76     51668\n",
      "          8       0.00      0.00      0.00         3\n",
      "          9       0.00      0.00      0.00         2\n",
      "         10       0.44      0.50      0.47     18426\n",
      "         11       0.00      0.06      0.01       165\n",
      "\n",
      "avg / total       0.75      0.63      0.68     70439\n",
      "\n",
      "0.915370588311\n",
      "             precision    recall  f1-score   support\n",
      "\n",
      "          0       0.00      0.00      0.00         7\n",
      "          1       0.00      0.00      0.00         8\n",
      "          2       0.00      0.00      0.00        14\n",
      "          3       0.00      0.03      0.00        29\n",
      "          4       0.00      0.00      0.00        50\n",
      "          5       0.00      0.00      0.00        18\n",
      "          6       0.00      0.04      0.00        27\n",
      "          7       0.86      0.68      0.76     51651\n",
      "          8       0.00      0.00      0.00         4\n",
      "          9       0.00      0.00      0.00         3\n",
      "         10       0.45      0.50      0.47     18482\n",
      "         11       0.00      0.06      0.01       146\n",
      "\n",
      "avg / total       0.75      0.63      0.68     70439\n",
      "\n"
     ]
    }
   ],
   "source": [
    "# X = final[:train.shape[0]]\n",
    "X_train, X_test, y_train, y_test = train_test_split(X, y, test_size=0.33, random_state=42)\n",
    "\n",
    "n_trees = [20, 40, 80, 160]\n",
    "df = pd.DataFrame(np.nan, index=n_trees, columns=['train_score', 'test_score', 'ndcg_score'])\n",
    "for n in n_trees:\n",
    "    clf = RandomForestClassifier(n_estimators=n, oob_score=True, n_jobs=1, random_state=42, criterion='entropy', max_depth=32)\n",
    "    clf = clf.fit(X_train, y_train)\n",
    "    \n",
    "    # The RF will give you unusually high training error if calculated this way\n",
    "    # http://stats.stackexchange.com/questions/66543/random-forest-is-overfitting\n",
    "    \n",
    "    # Changing to out-of-bag error\n",
    "    print mean_ndcg(clf, X_test, y_test)\n",
    "    print classification_report(clf.predict(X_test), y_test)\n",
    "#     df.loc[[n],'train_score'] = clf.oob_score_\n",
    "#     df.loc[[n],'test_score'] = recall_score(clf.predict(X_test), y_test, average='weighted')\n",
    "#     df.loc[[n],'ndcg_score'] = mean_ndcg(clf, X_test, y_test)"
   ]
  },
  {
   "cell_type": "code",
   "execution_count": 18,
   "metadata": {
    "collapsed": false
   },
   "outputs": [
    {
     "name": "stdout",
     "output_type": "stream",
     "text": [
      "             precision    recall  f1-score   support\n",
      "\n",
      "          0       0.00      0.00      0.00         0\n",
      "          1       0.00      0.00      0.00         0\n",
      "          2       0.00      0.00      0.00         0\n",
      "          3       0.00      0.00      0.00         0\n",
      "          4       0.00      0.00      0.00         0\n",
      "          5       0.00      0.00      0.00         0\n",
      "          6       0.00      0.00      0.00         0\n",
      "          7       0.93      0.65      0.77     58855\n",
      "          8       0.00      0.00      0.00         0\n",
      "          9       0.00      0.00      0.00         0\n",
      "         10       0.31      0.55      0.39     11584\n",
      "         11       0.00      0.00      0.00         0\n",
      "\n",
      "avg / total       0.83      0.63      0.70     70439\n",
      "\n"
     ]
    }
   ],
   "source": [
    "print classification_report(clf.predict(X_test), y_test)"
   ]
  },
  {
   "cell_type": "code",
   "execution_count": 12,
   "metadata": {
    "collapsed": false
   },
   "outputs": [],
   "source": [
    "#y_pred = clf.predict_proba(data[train.shape[0]:])  "
   ]
  },
  {
   "cell_type": "code",
   "execution_count": 13,
   "metadata": {
    "collapsed": false
   },
   "outputs": [],
   "source": [
    "#ids = []  #list of ids\n",
    "#cts = []  #list of countries\n",
    "#for i in range(len(id_test)):\n",
    "#    idx = id_test[i]\n",
    "#    ids += [idx] * 5\n",
    "#    cts += le.inverse_transform(np.argsort(y_pred[i])[::-1])[:5].tolist()\n",
    "\n",
    "#Generate submission\n",
    "#sub = pd.DataFrame(np.column_stack((ids, cts)), columns=['id', 'country'])\n",
    "#sub.to_csv(os.path.join('data', 'sub.csv'),index=False)"
   ]
  },
  {
   "cell_type": "code",
   "execution_count": 2,
   "metadata": {
    "collapsed": true
   },
   "outputs": [],
   "source": [
    "from sklearn.grid_search import GridSearchCV"
   ]
  },
  {
   "cell_type": "code",
   "execution_count": 14,
   "metadata": {
    "collapsed": false
   },
   "outputs": [],
   "source": [
    "X.to_pickle('X.pkl')\n",
    "np.save('y.npy', y)"
   ]
  },
  {
   "cell_type": "code",
   "execution_count": 5,
   "metadata": {
    "collapsed": false
   },
   "outputs": [],
   "source": [
    "X = pd.read_pickle('X.pkl')\n",
    "y = np.load('y.npy')"
   ]
  },
  {
   "cell_type": "code",
   "execution_count": null,
   "metadata": {
    "collapsed": false
   },
   "outputs": [],
   "source": [
    "# Feature selection, we run random forest and we remove some less-useful features\n",
    "# to improve performance\n",
    "clf = RandomForestClassifier(n_estimators=250, oob_score=True, n_jobs=1, criterion='entropy')\n",
    "\n",
    "# use a full grid over all parameters\n",
    "param_grid = {\n",
    "                \"max_depth\": [16, 32, 64],\n",
    "#                 \"n_estimators\": [500]\n",
    "#               \"max_features\": [\"sqrt\", 'log2'],\n",
    "#               \"min_samples_split\": [2],\n",
    "#               \"min_samples_leaf\": [1, 3, 10],\n",
    "#               \"bootstrap\": [True, False],\n",
    "#               \"criterion\": [\"gini\", \"entropy\"]\n",
    "}\n",
    "\n",
    "search = GridSearchCV(clf, param_grid, scoring='f1_weighted', verbose=1)"
   ]
  },
  {
   "cell_type": "code",
   "execution_count": null,
   "metadata": {
    "collapsed": false
   },
   "outputs": [],
   "source": [
    "# X = final[:train.shape[0]]\n",
    "search.fit(X, y)\n",
    "print search.best_params_\n",
    "print search.best_score_"
   ]
  },
  {
   "cell_type": "code",
   "execution_count": 6,
   "metadata": {
    "collapsed": false
   },
   "outputs": [
    {
     "ename": "AttributeError",
     "evalue": "'GridSearchCV' object has no attribute 'grid_scores_'",
     "output_type": "error",
     "traceback": [
      "\u001b[1;31m---------------------------------------------------------------------------\u001b[0m",
      "\u001b[1;31mAttributeError\u001b[0m                            Traceback (most recent call last)",
      "\u001b[1;32m<ipython-input-6-137f763e603f>\u001b[0m in \u001b[0;36m<module>\u001b[1;34m()\u001b[0m\n\u001b[1;32m----> 1\u001b[1;33m \u001b[0msearch\u001b[0m\u001b[1;33m.\u001b[0m\u001b[0mgrid_scores_\u001b[0m\u001b[1;33m\u001b[0m\u001b[0m\n\u001b[0m",
      "\u001b[1;31mAttributeError\u001b[0m: 'GridSearchCV' object has no attribute 'grid_scores_'"
     ]
    }
   ],
   "source": [
    "search.grid_scores_"
   ]
  },
  {
   "cell_type": "code",
   "execution_count": null,
   "metadata": {
    "collapsed": false
   },
   "outputs": [],
   "source": []
  },
  {
   "cell_type": "code",
   "execution_count": null,
   "metadata": {
    "collapsed": false
   },
   "outputs": [],
   "source": []
  },
  {
   "cell_type": "code",
   "execution_count": null,
   "metadata": {
    "collapsed": false
   },
   "outputs": [],
   "source": []
  },
  {
   "cell_type": "code",
   "execution_count": null,
   "metadata": {
    "collapsed": false
   },
   "outputs": [],
   "source": []
  }
 ],
 "metadata": {
  "kernelspec": {
   "display_name": "Python 2",
   "language": "python",
   "name": "python2"
  },
  "language_info": {
   "codemirror_mode": {
    "name": "ipython",
    "version": 2
   },
   "file_extension": ".py",
   "mimetype": "text/x-python",
   "name": "python",
   "nbconvert_exporter": "python",
   "pygments_lexer": "ipython2",
   "version": "2.7.11"
  }
 },
 "nbformat": 4,
 "nbformat_minor": 0
}
