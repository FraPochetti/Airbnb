{
 "cells": [
  {
   "cell_type": "code",
   "execution_count": 1,
   "metadata": {
    "collapsed": false
   },
   "outputs": [],
   "source": [
    "from mylib import preprocess\n",
    "import pandas as pd\n",
    "import os\n",
    "\n",
    "pretest = pd.read_csv(os.path.join('data', 'test_users.csv'), header=0, parse_dates=[1,2,3])\n",
    "pretrain = pd.read_csv(os.path.join('data', 'train_users_2.csv'), header=0, parse_dates=[1,2,3])\n",
    "df_sessions = pd.read_csv(\"data\\sessions.csv\", encoding='utf8')"
   ]
  },
  {
   "cell_type": "code",
   "execution_count": 2,
   "metadata": {
    "collapsed": false
   },
   "outputs": [],
   "source": [
    "train, test, y, le = preprocess.make_user_features(pretrain, pretest)"
   ]
  },
  {
   "cell_type": "code",
   "execution_count": 3,
   "metadata": {
    "collapsed": false
   },
   "outputs": [],
   "source": [
    "data = pd.concat((train, test), axis=0, ignore_index=True)\n",
    "final = preprocess.make_sessions_features(data, df_sessions)"
   ]
  },
  {
   "cell_type": "code",
   "execution_count": 4,
   "metadata": {
    "collapsed": false
   },
   "outputs": [
    {
     "data": {
      "text/plain": [
       "(213451, 549)"
      ]
     },
     "execution_count": 4,
     "metadata": {},
     "output_type": "execute_result"
    }
   ],
   "source": [
    "final[:train.shape[0]].shape"
   ]
  },
  {
   "cell_type": "code",
   "execution_count": 5,
   "metadata": {
    "collapsed": true
   },
   "outputs": [],
   "source": [
    "from sklearn.cross_validation import train_test_split\n",
    "our_train = final[:train.shape[0]]\n",
    "X_train, X_test, y_train, y_test = train_test_split(our_train, y, test_size=0.33, random_state=42, stratify=y)"
   ]
  },
  {
   "cell_type": "code",
   "execution_count": 6,
   "metadata": {
    "collapsed": false
   },
   "outputs": [
    {
     "data": {
      "text/plain": [
       "(143012, 549)"
      ]
     },
     "execution_count": 6,
     "metadata": {},
     "output_type": "execute_result"
    }
   ],
   "source": [
    "X_train.shape"
   ]
  },
  {
   "cell_type": "code",
   "execution_count": 7,
   "metadata": {
    "collapsed": false
   },
   "outputs": [
    {
     "data": {
      "text/plain": [
       "RandomForestClassifier(bootstrap=True, class_weight=None, criterion='entropy',\n",
       "            max_depth=None, max_features='auto', max_leaf_nodes=None,\n",
       "            min_samples_leaf=1, min_samples_split=2,\n",
       "            min_weight_fraction_leaf=0.0, n_estimators=160, n_jobs=-1,\n",
       "            oob_score=True, random_state=None, verbose=0, warm_start=False)"
      ]
     },
     "execution_count": 7,
     "metadata": {},
     "output_type": "execute_result"
    }
   ],
   "source": [
    "from sklearn.ensemble import RandomForestClassifier, ExtraTreesClassifier\n",
    "clf = RandomForestClassifier(n_estimators=160, oob_score=True, n_jobs=-1, criterion='entropy')\n",
    "clf.fit(X_train, y_train)"
   ]
  },
  {
   "cell_type": "code",
   "execution_count": 8,
   "metadata": {
    "collapsed": false
   },
   "outputs": [
    {
     "data": {
      "text/plain": [
       "313"
      ]
     },
     "execution_count": 8,
     "metadata": {},
     "output_type": "execute_result"
    }
   ],
   "source": [
    "import numpy as np\n",
    "np.count_nonzero(clf.feature_importances_ < 1e-4)"
   ]
  },
  {
   "cell_type": "code",
   "execution_count": 9,
   "metadata": {
    "collapsed": true
   },
   "outputs": [],
   "source": [
    "unimportant_features = clf.feature_importances_ < 1e-4\n",
    "clean_X_train = X_train.ix[:, ~unimportant_features]"
   ]
  },
  {
   "cell_type": "code",
   "execution_count": 10,
   "metadata": {
    "collapsed": false
   },
   "outputs": [
    {
     "name": "stderr",
     "output_type": "stream",
     "text": [
      "[Parallel(n_jobs=3)]: Done  19 out of  18 | elapsed: 98.8min remaining:    0.0s\n",
      "[Parallel(n_jobs=3)]: Done  19 out of  18 | elapsed: 111.7min remaining:    0.0s\n",
      "[Parallel(n_jobs=3)]: Done  19 out of  18 | elapsed: 117.5min remaining:    0.0s\n",
      "[Parallel(n_jobs=3)]: Done  19 out of  18 | elapsed: 129.6min remaining:    0.0s\n",
      "[Parallel(n_jobs=3)]: Done  19 out of  18 | elapsed: 131.2min remaining:    0.0s\n",
      "[Parallel(n_jobs=3)]: Done  18 out of  18 | elapsed: 131.2min finished\n"
     ]
    },
    {
     "name": "stdout",
     "output_type": "stream",
     "text": [
      "Fitting 3 folds for each of 6 candidates, totalling 18 fits\n",
      "[mean: 0.54168, std: 0.00111, params: {'n_neighbors': 16},\n",
      " mean: 0.54037, std: 0.00059, params: {'n_neighbors': 32},\n",
      " mean: 0.53778, std: 0.00158, params: {'n_neighbors': 8},\n",
      " mean: 0.52772, std: 0.00106, params: {'n_neighbors': 4},\n",
      " mean: 0.49698, std: 0.00090, params: {'n_neighbors': 1},\n",
      " mean: 0.49057, std: 0.00084, params: {'n_neighbors': 2}]\n"
     ]
    }
   ],
   "source": [
    "from sklearn.grid_search import GridSearchCV\n",
    "from sklearn.neighbors import KNeighborsClassifier\n",
    "from pprint import pprint\n",
    "neigh = KNeighborsClassifier(n_neighbors=2)\n",
    "\n",
    "param_grid = {\"n_neighbors\": [1, 2, 4, 8, 16, 32]}\n",
    "\n",
    "search = GridSearchCV(neigh, param_grid, scoring='f1_weighted', cv=3, verbose=4, n_jobs=3)\n",
    "search.fit(clean_X_train, y_train)\n",
    "pprint(sorted(search.grid_scores_, key=lambda x: -x.mean_validation_score))"
   ]
  }
 ],
 "metadata": {
  "kernelspec": {
   "display_name": "Python 2",
   "language": "python",
   "name": "python2"
  },
  "language_info": {
   "codemirror_mode": {
    "name": "ipython",
    "version": 2
   },
   "file_extension": ".py",
   "mimetype": "text/x-python",
   "name": "python",
   "nbconvert_exporter": "python",
   "pygments_lexer": "ipython2",
   "version": "2.7.11"
  }
 },
 "nbformat": 4,
 "nbformat_minor": 0
}
