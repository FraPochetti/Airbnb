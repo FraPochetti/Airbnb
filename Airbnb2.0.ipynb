{
 "cells": [
  {
   "cell_type": "code",
   "execution_count": 1,
   "metadata": {
    "collapsed": false
   },
   "outputs": [],
   "source": [
    "import pandas as pd\n",
    "from sklearn.preprocessing import LabelEncoder\n",
    "from sklearn.cross_validation import train_test_split\n",
    "import numpy as np\n",
    "from sklearn.ensemble import RandomForestClassifier, ExtraTreesClassifier\n",
    "import os\n",
    "\n",
    "np.random.seed(0)\n",
    "\n",
    "# Loading data\n",
    "data = pd.read_csv(os.path.join('data', 'train_users_2.csv'), header=0, parse_dates=[1,2,3])"
   ]
  },
  {
   "cell_type": "code",
   "execution_count": 2,
   "metadata": {
    "collapsed": false
   },
   "outputs": [],
   "source": [
    "outcome = data.country_destination\n",
    "labels = outcome.values\n",
    "le = LabelEncoder()\n",
    "y = le.fit_transform(labels)\n",
    "\n",
    "data = data.drop(['id','date_first_booking'], axis=1)\n",
    "#df_all = df_all.fillna(-1)\n",
    "\n",
    "#date_account_created\n",
    "data['dac_year'] = data.date_account_created.apply(lambda x: x.year)\n",
    "data['dac_month'] = data.date_account_created.apply(lambda x: x.month)\n",
    "data['dac_weekday'] = data.date_account_created.apply(lambda x: x.weekday())\n",
    "data = data.drop(['date_account_created'], axis=1)\n",
    "\n",
    "#timestamp_first_active\n",
    "data['tfa_year'] = data.timestamp_first_active.apply(lambda x: x.year)\n",
    "data['tfa_month'] = data.timestamp_first_active.apply(lambda x: x.month)\n",
    "data['tfa_weekday'] = data.timestamp_first_active.apply(lambda x: x.weekday())\n",
    "data = data.drop(['timestamp_first_active'], axis=1)"
   ]
  },
  {
   "cell_type": "code",
   "execution_count": 3,
   "metadata": {
    "collapsed": false
   },
   "outputs": [],
   "source": [
    "data.age = data.age.fillna(data.age.median())"
   ]
  },
  {
   "cell_type": "code",
   "execution_count": 4,
   "metadata": {
    "collapsed": false
   },
   "outputs": [],
   "source": [
    "bins = list(np.arange(15, 85, 5))\n",
    "bins.insert(0,0)\n",
    "bins.append(int(max(data.age)))"
   ]
  },
  {
   "cell_type": "code",
   "execution_count": 5,
   "metadata": {
    "collapsed": false
   },
   "outputs": [],
   "source": [
    "group_names = ['<15', '15-20', '20-25', '25-30', '30-35', '35-40', '40-45', '45-50', '50-55', '55-60', '60-65', '65-70', '70-75', '75-80', '>80']"
   ]
  },
  {
   "cell_type": "code",
   "execution_count": 6,
   "metadata": {
    "collapsed": false
   },
   "outputs": [],
   "source": [
    "data['age_bucket'] = pd.cut(data['age'], bins, labels=group_names)"
   ]
  },
  {
   "cell_type": "code",
   "execution_count": 7,
   "metadata": {
    "collapsed": false
   },
   "outputs": [],
   "source": [
    "data.gender = data.gender.replace('-unknown-','unknown')"
   ]
  },
  {
   "cell_type": "code",
   "execution_count": 8,
   "metadata": {
    "collapsed": false
   },
   "outputs": [],
   "source": [
    "data.ix[:, data.columns != 'age_bucket'] = data.ix[:, data.columns != 'age_bucket'].fillna('unknown')"
   ]
  },
  {
   "cell_type": "code",
   "execution_count": 9,
   "metadata": {
    "collapsed": false
   },
   "outputs": [],
   "source": [
    "to_be_dummified = ['gender', 'signup_method', 'signup_flow', 'language', 'affiliate_channel', 'affiliate_provider', 'first_affiliate_tracked', 'signup_app', 'first_device_type', 'first_browser','age_bucket']\n",
    "for f in to_be_dummified:\n",
    "    dummies = pd.get_dummies(data[f], prefix=f)\n",
    "    data = data.drop([f], axis=1)\n",
    "    data = pd.concat((data, dummies), axis=1)"
   ]
  },
  {
   "cell_type": "code",
   "execution_count": 10,
   "metadata": {
    "collapsed": false
   },
   "outputs": [
    {
     "data": {
      "text/plain": [
       "(213451, 171)"
      ]
     },
     "execution_count": 10,
     "metadata": {},
     "output_type": "execute_result"
    }
   ],
   "source": [
    "data.shape"
   ]
  },
  {
   "cell_type": "code",
   "execution_count": 11,
   "metadata": {
    "collapsed": false
   },
   "outputs": [],
   "source": [
    "data = data.drop(['country_destination'], axis=1)"
   ]
  },
  {
   "cell_type": "code",
   "execution_count": 12,
   "metadata": {
    "collapsed": false
   },
   "outputs": [],
   "source": [
    "X_train, X_test, y_train, y_test = train_test_split(data, y, test_size=0.33, random_state=42)"
   ]
  },
  {
   "cell_type": "code",
   "execution_count": 59,
   "metadata": {
    "collapsed": false
   },
   "outputs": [],
   "source": [
    "from mylib.scoring import ndcg_at_k\n",
    "\n",
    "def mean_ndcg(clf, X, y):\n",
    "    # Predict class probabilities\n",
    "    y_predict = clf.predict_proba(X)\n",
    "    # Get highest 5 predictions\n",
    "    best_5 = np.argsort(-y_predict, axis=1)[:, :5]\n",
    "    \n",
    "    # Transform to relevance scores\n",
    "    relevance = (best_5 == y[:, np.newaxis]).astype('int')\n",
    "    \n",
    "    # Calculate ndcg for each sample and take average (?)\n",
    "    return np.mean([ndcg_at_k(row, 5) for row in relevance])\n"
   ]
  },
  {
   "cell_type": "code",
   "execution_count": 61,
   "metadata": {
    "collapsed": false
   },
   "outputs": [
    {
     "name": "stdout",
     "output_type": "stream",
     "text": [
      "Estimators: 10 Accuracy(oob): 0.543821497497 Accuracy(test): 0.576214880961 NDCG(test): 0.842808754265\n",
      "Estimators: 20 Accuracy(oob): 0.569805331021 Accuracy(test): 0.582134896861 NDCG(test): 0.867941441573\n",
      "Estimators: 40 Accuracy(oob): 0.582321763209 Accuracy(test): 0.585272363321 NDCG(test): 0.880404718879\n",
      "Estimators: 80 Accuracy(oob): 0.587733896456 Accuracy(test): 0.590865855563 NDCG(test): 0.888091856654\n",
      "Estimators: 160 Accuracy(oob): 0.590971387016 Accuracy(test): 0.590695495393 NDCG(test): 0.89246613131\n"
     ]
    }
   ],
   "source": [
    "for n in [10, 20, 40, 80, 160]:\n",
    "    clf = RandomForestClassifier(n_estimators=n, oob_score=True)\n",
    "    clf = clf.fit(X_train, y_train)\n",
    "    \n",
    "    # The RF will give you unusually high training error if calculated this way\n",
    "    # http://stats.stackexchange.com/questions/66543/random-forest-is-overfitting\n",
    "    # train_score = clf.score(X_train, y_train)\n",
    "    \n",
    "    # Changing to out-of-bag error\n",
    "    train_score = clf.oob_score_\n",
    "    test_score = clf.score(X_test, y_test)\n",
    "    ndcg_score = mean_ndcg(clf, X_test, y_test)\n",
    "    \n",
    "    print \"Estimators: {} Accuracy(oob): {} Accuracy(test): {} NDCG(test): {}\".format(n, train_score, test_score, ndcg_score)"
   ]
  },
  {
   "cell_type": "code",
   "execution_count": null,
   "metadata": {
    "collapsed": true
   },
   "outputs": [],
   "source": []
  }
 ],
 "metadata": {
  "kernelspec": {
   "display_name": "Python 2",
   "language": "python",
   "name": "python2"
  },
  "language_info": {
   "codemirror_mode": {
    "name": "ipython",
    "version": 2
   },
   "file_extension": ".py",
   "mimetype": "text/x-python",
   "name": "python",
   "nbconvert_exporter": "python",
   "pygments_lexer": "ipython2",
   "version": "2.7.10"
  }
 },
 "nbformat": 4,
 "nbformat_minor": 0
}
