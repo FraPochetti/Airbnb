{
 "cells": [
  {
   "cell_type": "code",
   "execution_count": 27,
   "metadata": {
    "collapsed": true
   },
   "outputs": [],
   "source": [
    "import pandas as pd\n",
    "import os\n",
    "from sklearn.feature_extraction import DictVectorizer\n",
    "import scipy.sparse as sp\n",
    "import numpy as np"
   ]
  },
  {
   "cell_type": "code",
   "execution_count": 2,
   "metadata": {
    "collapsed": false
   },
   "outputs": [],
   "source": [
    "if not os.path.exists(\"data/sessions.csv\"):\n",
    "    print(\"Make sure to unzip the file data/sessions.csv.zip!\")\n",
    "else:\n",
    "    df = pd.read_csv(\"data/train_users_2.csv\", encoding='utf8')\n",
    "    df_sessions = pd.read_csv(\"data/sessions.csv\", encoding='utf8')"
   ]
  },
  {
   "cell_type": "code",
   "execution_count": 3,
   "metadata": {
    "collapsed": false
   },
   "outputs": [],
   "source": [
    "# Drop row with nan values from the \"user_id\" column as they're useless\n",
    "df_sessions = df_sessions.dropna(subset=[\"user_id\"])"
   ]
  },
  {
   "cell_type": "markdown",
   "metadata": {},
   "source": [
    "# Making features from the session dataset\n",
    "\n",
    "- action counts\n",
    "- device counts\n",
    "- ignore seconds elapsed for now"
   ]
  },
  {
   "cell_type": "code",
   "execution_count": 4,
   "metadata": {
    "collapsed": false
   },
   "outputs": [],
   "source": [
    "# Frequency of devices - by user\n",
    "device_freq = df_sessions.groupby('user_id').device_type.value_counts()"
   ]
  },
  {
   "cell_type": "code",
   "execution_count": 5,
   "metadata": {
    "collapsed": true
   },
   "outputs": [],
   "source": [
    "# Frequency of actions taken - by user\n",
    "action_freq = df_sessions.groupby('user_id').action.value_counts()"
   ]
  },
  {
   "cell_type": "code",
   "execution_count": 6,
   "metadata": {
    "collapsed": false
   },
   "outputs": [],
   "source": [
    "# Total list of users\n",
    "users = df.id"
   ]
  },
  {
   "cell_type": "code",
   "execution_count": 7,
   "metadata": {
    "collapsed": true
   },
   "outputs": [],
   "source": [
    "def feature_dict(df):\n",
    "    f_dict = dict(list(df.groupby(level='user_id')))\n",
    "    res = {}\n",
    "    for k, v in f_dict.items():\n",
    "        v.index = v.index.droplevel('user_id')\n",
    "        res[k] = v.to_dict()\n",
    "    return res"
   ]
  },
  {
   "cell_type": "code",
   "execution_count": 8,
   "metadata": {
    "collapsed": false
   },
   "outputs": [],
   "source": [
    "# Make a dictionary with the frequencies { 'user_id' : {\"IPhone\": 2, \"Windows\": 1}}\n",
    "action_dict = feature_dict(action_freq)\n",
    "device_dict = feature_dict(device_freq)"
   ]
  },
  {
   "cell_type": "code",
   "execution_count": 9,
   "metadata": {
    "collapsed": true
   },
   "outputs": [],
   "source": [
    "# Transform to a list of dictionaries\n",
    "action_rows = [action_dict.get(k, {}) for k in users]\n",
    "device_rows = [device_dict.get(k, {}) for k in users]"
   ]
  },
  {
   "cell_type": "code",
   "execution_count": 10,
   "metadata": {
    "collapsed": false
   },
   "outputs": [],
   "source": [
    "device_transf = DictVectorizer()\n",
    "tf = device_transf.fit_transform(device_rows)"
   ]
  },
  {
   "cell_type": "code",
   "execution_count": 11,
   "metadata": {
    "collapsed": true
   },
   "outputs": [],
   "source": [
    "action_transf = DictVectorizer()\n",
    "tf2 = action_transf.fit_transform(action_rows)"
   ]
  },
  {
   "cell_type": "code",
   "execution_count": 12,
   "metadata": {
    "collapsed": false
   },
   "outputs": [],
   "source": [
    "# Concatenate the two datasets\n",
    "# Those are row vectors with the frequencies of both device and actions [0, 0, 0, 2, 0, 1, ...]\n",
    "features = sp.hstack([tf, tf2])"
   ]
  },
  {
   "cell_type": "code",
   "execution_count": 18,
   "metadata": {
    "collapsed": false
   },
   "outputs": [],
   "source": [
    "# We create a dataframe with the new features and we write it to disk\n",
    "df_sess_features = pd.DataFrame(features.todense())\n",
    "df_sess_features['id'] = df.id\n",
    "\n",
    "df_sess_features.to_csv(\"postprocess/session_features.csv\")"
   ]
  },
  {
   "cell_type": "code",
   "execution_count": 19,
   "metadata": {
    "collapsed": false
   },
   "outputs": [],
   "source": [
    "from sklearn.preprocessing import LabelBinarizer\n",
    "dest_transf = LabelBinarizer()\n",
    "y_tf = dest_transf.fit_transform(df.country_destination)"
   ]
  },
  {
   "cell_type": "code",
   "execution_count": 30,
   "metadata": {
    "collapsed": false
   },
   "outputs": [],
   "source": [
    "from sklearn.ensemble import RandomForestClassifier, ExtraTreesClassifier\n",
    "from sklearn.cross_validation import train_test_split\n",
    "X_train, X_test, y_train, y_test = train_test_split(features, y_tf, test_size=0.33, random_state=42)"
   ]
  },
  {
   "cell_type": "code",
   "execution_count": null,
   "metadata": {
    "collapsed": false
   },
   "outputs": [
    {
     "name": "stdout",
     "output_type": "stream",
     "text": [
      "10\n",
      "0.930685886499\n",
      "0.552676784168"
     ]
    }
   ],
   "source": [
    "for n in [10, 20, 40, 80, 160]:\n",
    "    clf = RandomForestClassifier(n_estimators=n, bootstrap=True, oob_score=True, random_state=42)\n",
    "    clf.fit(X_train, y_train)\n",
    "    print n\n",
    "    print clf.oob_score_\n",
    "    print clf.score(X_test, y_test)"
   ]
  }
 ],
 "metadata": {
  "kernelspec": {
   "display_name": "Python 2",
   "language": "python",
   "name": "python2"
  },
  "language_info": {
   "codemirror_mode": {
    "name": "ipython",
    "version": 2
   },
   "file_extension": ".py",
   "mimetype": "text/x-python",
   "name": "python",
   "nbconvert_exporter": "python",
   "pygments_lexer": "ipython2",
   "version": "2.7.11"
  }
 },
 "nbformat": 4,
 "nbformat_minor": 0
}
