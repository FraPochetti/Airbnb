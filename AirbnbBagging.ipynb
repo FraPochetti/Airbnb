{
 "cells": [
  {
   "cell_type": "code",
   "execution_count": 1,
   "metadata": {
    "collapsed": false
   },
   "outputs": [],
   "source": [
    "from mylib import preprocess\n",
    "import pandas as pd\n",
    "import os\n",
    "\n",
    "pretest = pd.read_csv(os.path.join('data', 'test_users.csv'), header=0, parse_dates=[1,2,3])\n",
    "pretrain = pd.read_csv(os.path.join('data', 'train_users_2.csv'), header=0, parse_dates=[1,2,3])\n",
    "df_sessions = pd.read_csv(\"data\\sessions.csv\", encoding='utf8')"
   ]
  },
  {
   "cell_type": "code",
   "execution_count": 2,
   "metadata": {
    "collapsed": false
   },
   "outputs": [],
   "source": [
    "train, test, y, le = preprocess.make_user_features(pretrain, pretest)"
   ]
  },
  {
   "cell_type": "code",
   "execution_count": 3,
   "metadata": {
    "collapsed": false
   },
   "outputs": [],
   "source": [
    "data = pd.concat((train, test), axis=0, ignore_index=True)\n",
    "final = preprocess.make_sessions_features(data, df_sessions)"
   ]
  },
  {
   "cell_type": "code",
   "execution_count": 4,
   "metadata": {
    "collapsed": false
   },
   "outputs": [
    {
     "data": {
      "text/plain": [
       "(213451, 549)"
      ]
     },
     "execution_count": 4,
     "metadata": {},
     "output_type": "execute_result"
    }
   ],
   "source": [
    "final[:train.shape[0]].shape"
   ]
  },
  {
   "cell_type": "code",
   "execution_count": 5,
   "metadata": {
    "collapsed": true
   },
   "outputs": [],
   "source": [
    "from sklearn.cross_validation import train_test_split\n",
    "our_train = final[:train.shape[0]]\n",
    "X_train, X_test, y_train, y_test = train_test_split(our_train, y, test_size=0.33, random_state=42, stratify=y)"
   ]
  },
  {
   "cell_type": "code",
   "execution_count": 6,
   "metadata": {
    "collapsed": false
   },
   "outputs": [
    {
     "data": {
      "text/plain": [
       "(143012, 549)"
      ]
     },
     "execution_count": 6,
     "metadata": {},
     "output_type": "execute_result"
    }
   ],
   "source": [
    "X_train.shape"
   ]
  },
  {
   "cell_type": "code",
   "execution_count": 7,
   "metadata": {
    "collapsed": false
   },
   "outputs": [
    {
     "data": {
      "text/plain": [
       "RandomForestClassifier(bootstrap=True, class_weight=None, criterion='entropy',\n",
       "            max_depth=None, max_features='auto', max_leaf_nodes=None,\n",
       "            min_samples_leaf=1, min_samples_split=2,\n",
       "            min_weight_fraction_leaf=0.0, n_estimators=160, n_jobs=-1,\n",
       "            oob_score=True, random_state=None, verbose=0, warm_start=False)"
      ]
     },
     "execution_count": 7,
     "metadata": {},
     "output_type": "execute_result"
    }
   ],
   "source": [
    "from sklearn.ensemble import RandomForestClassifier, ExtraTreesClassifier\n",
    "clf = RandomForestClassifier(n_estimators=160, oob_score=True, n_jobs=-1, criterion='entropy')\n",
    "clf.fit(X_train, y_train)"
   ]
  },
  {
   "cell_type": "code",
   "execution_count": 8,
   "metadata": {
    "collapsed": false
   },
   "outputs": [
    {
     "data": {
      "text/plain": [
       "313"
      ]
     },
     "execution_count": 8,
     "metadata": {},
     "output_type": "execute_result"
    }
   ],
   "source": [
    "import numpy as np\n",
    "np.count_nonzero(clf.feature_importances_ < 1e-4)"
   ]
  },
  {
   "cell_type": "code",
   "execution_count": 9,
   "metadata": {
    "collapsed": true
   },
   "outputs": [],
   "source": [
    "unimportant_features = clf.feature_importances_ < 1e-4\n",
    "clean_X_train = X_train.ix[:, ~unimportant_features]"
   ]
  },
  {
   "cell_type": "code",
   "execution_count": 11,
   "metadata": {
    "collapsed": false
   },
   "outputs": [
    {
     "name": "stderr",
     "output_type": "stream",
     "text": [
      "[Parallel(n_jobs=2)]: Done  21 tasks      | elapsed:  2.9min\n",
      "[Parallel(n_jobs=2)]: Done  81 out of  81 | elapsed: 103.4min finished\n"
     ]
    },
    {
     "name": "stdout",
     "output_type": "stream",
     "text": [
      "Fitting 3 folds for each of 27 candidates, totalling 81 fits\n",
      "[mean: 0.59378, std: 0.00149, params: {'max_features': 1.0, 'max_samples': 0.1, 'n_estimators': 100},\n",
      " mean: 0.59077, std: 0.00205, params: {'max_features': 1.0, 'max_samples': 0.1, 'n_estimators': 50},\n",
      " mean: 0.58520, std: 0.00156, params: {'max_features': 0.5, 'max_samples': 0.1, 'n_estimators': 100},\n",
      " mean: 0.58505, std: 0.00087, params: {'max_features': 1.0, 'max_samples': 0.5, 'n_estimators': 100},\n",
      " mean: 0.58318, std: 0.00039, params: {'max_features': 0.5, 'max_samples': 0.5, 'n_estimators': 100},\n",
      " mean: 0.58218, std: 0.00003, params: {'max_features': 1.0, 'max_samples': 0.5, 'n_estimators': 50},\n",
      " mean: 0.58107, std: 0.00090, params: {'max_features': 0.5, 'max_samples': 0.1, 'n_estimators': 50},\n",
      " mean: 0.58057, std: 0.00058, params: {'max_features': 0.5, 'max_samples': 1.0, 'n_estimators': 100},\n",
      " mean: 0.58056, std: 0.00060, params: {'max_features': 0.5, 'max_samples': 0.5, 'n_estimators': 50},\n",
      " mean: 0.57927, std: 0.00069, params: {'max_features': 0.5, 'max_samples': 1.0, 'n_estimators': 50},\n",
      " mean: 0.57695, std: 0.00069, params: {'max_features': 1.0, 'max_samples': 1.0, 'n_estimators': 100},\n",
      " mean: 0.57399, std: 0.00004, params: {'max_features': 1.0, 'max_samples': 1.0, 'n_estimators': 50},\n",
      " mean: 0.56887, std: 0.00176, params: {'max_features': 1.0, 'max_samples': 0.1, 'n_estimators': 10},\n",
      " mean: 0.56678, std: 0.00086, params: {'max_features': 1.0, 'max_samples': 0.5, 'n_estimators': 10},\n",
      " mean: 0.56268, std: 0.00110, params: {'max_features': 0.5, 'max_samples': 0.5, 'n_estimators': 10},\n",
      " mean: 0.56199, std: 0.00071, params: {'max_features': 0.5, 'max_samples': 1.0, 'n_estimators': 10},\n",
      " mean: 0.56056, std: 0.00126, params: {'max_features': 1.0, 'max_samples': 1.0, 'n_estimators': 10},\n",
      " mean: 0.55940, std: 0.00139, params: {'max_features': 0.5, 'max_samples': 0.1, 'n_estimators': 10},\n",
      " mean: 0.46932, std: 0.00042, params: {'max_features': 0.1, 'max_samples': 1.0, 'n_estimators': 10},\n",
      " mean: 0.46872, std: 0.00019, params: {'max_features': 0.1, 'max_samples': 0.5, 'n_estimators': 100},\n",
      " mean: 0.46846, std: 0.00133, params: {'max_features': 0.1, 'max_samples': 0.5, 'n_estimators': 10},\n",
      " mean: 0.46843, std: 0.00137, params: {'max_features': 0.1, 'max_samples': 0.1, 'n_estimators': 10},\n",
      " mean: 0.46838, std: 0.00052, params: {'max_features': 0.1, 'max_samples': 1.0, 'n_estimators': 100},\n",
      " mean: 0.46751, std: 0.00042, params: {'max_features': 0.1, 'max_samples': 0.1, 'n_estimators': 100},\n",
      " mean: 0.46658, std: 0.00005, params: {'max_features': 0.1, 'max_samples': 0.5, 'n_estimators': 50},\n",
      " mean: 0.46653, std: 0.00012, params: {'max_features': 0.1, 'max_samples': 1.0, 'n_estimators': 50},\n",
      " mean: 0.46566, std: 0.00073, params: {'max_features': 0.1, 'max_samples': 0.1, 'n_estimators': 50}]\n"
     ]
    }
   ],
   "source": [
    "from sklearn.grid_search import GridSearchCV\n",
    "from sklearn.ensemble import BaggingClassifier\n",
    "from pprint import pprint\n",
    "bagg = BaggingClassifier(random_state=42)\n",
    "\n",
    "param_grid = {\"n_estimators\": [10, 50, 100],\n",
    "              \"max_samples\": [0.1, 0.5, 1.0],\n",
    "              \"max_features\": [0.1, 0.5, 1.0]}\n",
    "\n",
    "search = GridSearchCV(bagg, param_grid, scoring='f1_weighted', cv=3, verbose=4, n_jobs=2)\n",
    "search.fit(clean_X_train, y_train)\n",
    "pprint(sorted(search.grid_scores_, key=lambda x: -x.mean_validation_score))"
   ]
  }
 ],
 "metadata": {
  "kernelspec": {
   "display_name": "Python 2",
   "language": "python",
   "name": "python2"
  },
  "language_info": {
   "codemirror_mode": {
    "name": "ipython",
    "version": 2
   },
   "file_extension": ".py",
   "mimetype": "text/x-python",
   "name": "python",
   "nbconvert_exporter": "python",
   "pygments_lexer": "ipython2",
   "version": "2.7.11"
  }
 },
 "nbformat": 4,
 "nbformat_minor": 0
}
